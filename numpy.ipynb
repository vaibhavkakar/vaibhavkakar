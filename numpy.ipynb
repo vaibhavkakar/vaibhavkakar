{
 "cells": [
  {
   "cell_type": "code",
   "execution_count": 3,
   "id": "fb4e7056",
   "metadata": {},
   "outputs": [
    {
     "data": {
      "text/plain": [
       "array([1, 2, 3, 4, 5])"
      ]
     },
     "execution_count": 3,
     "metadata": {},
     "output_type": "execute_result"
    }
   ],
   "source": [
    "import numpy as np\n",
    "a=[1,2,3,4,5]\n",
    "myarr=np.array(a)\n",
    "myarr"
   ]
  },
  {
   "cell_type": "code",
   "execution_count": 5,
   "id": "b23d7145",
   "metadata": {},
   "outputs": [
    {
     "name": "stdout",
     "output_type": "stream",
     "text": [
      "enter the size of array5\n",
      "enter number1\n",
      "enter number2\n",
      "enter number3\n",
      "enter number4\n",
      "enter number5\n"
     ]
    },
    {
     "data": {
      "text/plain": [
       "array([1, 2, 3, 4, 5])"
      ]
     },
     "execution_count": 5,
     "metadata": {},
     "output_type": "execute_result"
    }
   ],
   "source": [
    "import numpy as np\n",
    "a=[]\n",
    "n=int(input(\"enter the size of array\"))\n",
    "for i in range(n):\n",
    "    val=int(input(\"enter number\"))\n",
    "    a.append(val)\n",
    "myarr=np.array(a)\n",
    "myarr"
   ]
  },
  {
   "cell_type": "code",
   "execution_count": 6,
   "id": "27f67a2a",
   "metadata": {},
   "outputs": [
    {
     "data": {
      "text/plain": [
       "array([[1, 2, 3],\n",
       "       [4, 5, 6],\n",
       "       [7, 8, 9]])"
      ]
     },
     "execution_count": 6,
     "metadata": {},
     "output_type": "execute_result"
    }
   ],
   "source": [
    "import numpy as np\n",
    "a=[[1,2,3],[4,5,6],[7,8,9]]\n",
    "myarr=np.array(a)\n",
    "myarr"
   ]
  },
  {
   "cell_type": "code",
   "execution_count": 7,
   "id": "ee5f05a5",
   "metadata": {},
   "outputs": [
    {
     "name": "stdout",
     "output_type": "stream",
     "text": [
      "total dimension= 2\n",
      "shape of array= (3, 3)\n"
     ]
    }
   ],
   "source": [
    "import numpy as np\n",
    "a=[[1,2,3],[4,5,6],[7,8,9]]\n",
    "myarr=np.array(a)\n",
    "myarr\n",
    "print(\"total dimension=\",myarr.ndim)\n",
    "print(\"shape of array=\",myarr.shape)"
   ]
  },
  {
   "cell_type": "code",
   "execution_count": 8,
   "id": "ad335785",
   "metadata": {},
   "outputs": [
    {
     "data": {
      "text/plain": [
       "array([0., 0., 0., 0., 0.])"
      ]
     },
     "execution_count": 8,
     "metadata": {},
     "output_type": "execute_result"
    }
   ],
   "source": [
    "import numpy as np\n",
    "a=[5]\n",
    "arr=np.zeros(a)\n",
    "arr"
   ]
  },
  {
   "cell_type": "code",
   "execution_count": 10,
   "id": "1e87b060",
   "metadata": {},
   "outputs": [
    {
     "data": {
      "text/plain": [
       "array([[0., 0., 0.],\n",
       "       [0., 0., 0.]])"
      ]
     },
     "execution_count": 10,
     "metadata": {},
     "output_type": "execute_result"
    }
   ],
   "source": [
    "import numpy as np\n",
    "a=[2,3]\n",
    "arr=np.zeros(a)\n",
    "arr"
   ]
  },
  {
   "cell_type": "code",
   "execution_count": 16,
   "id": "a2e4b401",
   "metadata": {},
   "outputs": [
    {
     "data": {
      "text/plain": [
       "array([[1., 0., 0., 0., 0., 0., 0., 0.],\n",
       "       [0., 1., 0., 0., 0., 0., 0., 0.],\n",
       "       [0., 0., 1., 0., 0., 0., 0., 0.],\n",
       "       [0., 0., 0., 1., 0., 0., 0., 0.],\n",
       "       [0., 0., 0., 0., 1., 0., 0., 0.]])"
      ]
     },
     "execution_count": 16,
     "metadata": {},
     "output_type": "execute_result"
    }
   ],
   "source": [
    "import numpy as np\n",
    "arr=np.eye(5,8)\n",
    "arr"
   ]
  },
  {
   "cell_type": "code",
   "execution_count": 17,
   "id": "b2fdb3e0",
   "metadata": {},
   "outputs": [
    {
     "data": {
      "text/plain": [
       "array([[1, 0, 0, 0, 0],\n",
       "       [0, 2, 0, 0, 0],\n",
       "       [0, 0, 3, 0, 0],\n",
       "       [0, 0, 0, 4, 0],\n",
       "       [0, 0, 0, 0, 5]])"
      ]
     },
     "execution_count": 17,
     "metadata": {},
     "output_type": "execute_result"
    }
   ],
   "source": [
    "import numpy as np\n",
    "arr=np.diag([1,2,3,4,5])\n",
    "arr"
   ]
  },
  {
   "cell_type": "code",
   "execution_count": 25,
   "id": "7b22718b",
   "metadata": {},
   "outputs": [
    {
     "name": "stdout",
     "output_type": "stream",
     "text": [
      "how many numbers3\n",
      "enter number54\n",
      "54\n",
      "enter number55\n",
      "54\n",
      "55\n",
      "enter number57\n",
      "54\n",
      "55\n",
      "57\n"
     ]
    }
   ],
   "source": [
    "import numpy as np\n",
    "a=[]\n",
    "size=int(input(\"how many numbers\"))\n",
    "for i in range(size):\n",
    "    val=int(input(\"enter number\"))\n",
    "    a.append(val)\n",
    "    arr=np.array(a)\n",
    "    for i in range(arr.size):\n",
    "        print(arr[i])"
   ]
  },
  {
   "cell_type": "code",
   "execution_count": 28,
   "id": "084782e9",
   "metadata": {},
   "outputs": [
    {
     "name": "stdout",
     "output_type": "stream",
     "text": [
      "how many numbers5\n",
      "enter number1\n",
      "1\n",
      "enter number2\n",
      "1\n",
      "2\n",
      "enter number3\n",
      "1\n",
      "2\n",
      "3\n",
      "enter number4\n",
      "1\n",
      "2\n",
      "3\n",
      "4\n",
      "enter number5\n",
      "1\n",
      "2\n",
      "3\n",
      "4\n",
      "5\n",
      "sum of array= 5\n"
     ]
    }
   ],
   "source": [
    "import numpy as np\n",
    "a=[]\n",
    "size=int(input(\"how many numbers\"))\n",
    "for i in range(size):\n",
    "    val=int(input(\"enter number\"))\n",
    "    a.append(val)\n",
    "    arr=np.array(a)\n",
    "    for i in range(arr.size):\n",
    "        print(arr[i])\n",
    "sum=0        \n",
    "sum=sum+arr[i]\n",
    "print(\"sum of array=\",sum)"
   ]
  },
  {
   "cell_type": "code",
   "execution_count": 33,
   "id": "2db66d92",
   "metadata": {},
   "outputs": [
    {
     "name": "stdout",
     "output_type": "stream",
     "text": [
      "how many numbers4\n",
      "enter the number1\n",
      "1\n",
      "enter the number2\n",
      "1\n",
      "2\n",
      "enter the number3\n",
      "1\n",
      "2\n",
      "3\n",
      "enter the number4\n",
      "1\n",
      "2\n",
      "3\n",
      "4\n",
      "sum of array= 1\n",
      "sum of array= 3\n",
      "sum of array= 6\n",
      "sum of array= 10\n"
     ]
    }
   ],
   "source": [
    "import numpy as np\n",
    "a=[]\n",
    "size=int(input(\"how many numbers\"))\n",
    "for i in range(size):\n",
    "    val=int(input(\"enter the number\"))\n",
    "    a.append(val)\n",
    "    arr=np.array(a)\n",
    "    for i in range(arr.size):\n",
    "        print(arr[i])\n",
    "sum=0\n",
    "for i in range(arr.size):\n",
    "    sum=sum+arr[i]\n",
    "    print(\"sum of array=\",sum)"
   ]
  },
  {
   "cell_type": "code",
   "execution_count": 39,
   "id": "e82bec5d",
   "metadata": {},
   "outputs": [
    {
     "name": "stdout",
     "output_type": "stream",
     "text": [
      "how many numbers8\n",
      "enter number1\n",
      "1\n",
      "1\n",
      "[]\n",
      "enter number2\n",
      "1\n",
      "1\n",
      "[]\n",
      "2\n",
      "[]\n",
      "2\n",
      "1\n",
      "[]\n",
      "2\n",
      "[]\n",
      "enter number3\n",
      "1\n",
      "1\n",
      "[3]\n",
      "2\n",
      "[3]\n",
      "3\n",
      "[3]\n",
      "2\n",
      "1\n",
      "[3]\n",
      "2\n",
      "[3]\n",
      "3\n",
      "[3]\n",
      "3\n",
      "1\n",
      "[3]\n",
      "2\n",
      "[3]\n",
      "3\n",
      "[3]\n",
      "enter number4\n",
      "1\n",
      "1\n",
      "[3 4]\n",
      "2\n",
      "[3 4]\n",
      "3\n",
      "[3 4]\n",
      "4\n",
      "[3 4]\n",
      "2\n",
      "1\n",
      "[3 4]\n",
      "2\n",
      "[3 4]\n",
      "3\n",
      "[3 4]\n",
      "4\n",
      "[3 4]\n",
      "3\n",
      "1\n",
      "[3 4]\n",
      "2\n",
      "[3 4]\n",
      "3\n",
      "[3 4]\n",
      "4\n",
      "[3 4]\n",
      "4\n",
      "1\n",
      "[3 4]\n",
      "2\n",
      "[3 4]\n",
      "3\n",
      "[3 4]\n",
      "4\n",
      "[3 4]\n",
      "enter number5\n",
      "1\n",
      "1\n",
      "[3 4 5]\n",
      "2\n",
      "[3 4 5]\n",
      "3\n",
      "[3 4 5]\n",
      "4\n",
      "[3 4 5]\n",
      "5\n",
      "[3 4 5]\n",
      "2\n",
      "1\n",
      "[3 4 5]\n",
      "2\n",
      "[3 4 5]\n",
      "3\n",
      "[3 4 5]\n",
      "4\n",
      "[3 4 5]\n",
      "5\n",
      "[3 4 5]\n",
      "3\n",
      "1\n",
      "[3 4 5]\n",
      "2\n",
      "[3 4 5]\n",
      "3\n",
      "[3 4 5]\n",
      "4\n",
      "[3 4 5]\n",
      "5\n",
      "[3 4 5]\n",
      "4\n",
      "1\n",
      "[3 4 5]\n",
      "2\n",
      "[3 4 5]\n",
      "3\n",
      "[3 4 5]\n",
      "4\n",
      "[3 4 5]\n",
      "5\n",
      "[3 4 5]\n",
      "5\n",
      "1\n",
      "[3 4 5]\n",
      "2\n",
      "[3 4 5]\n",
      "3\n",
      "[3 4 5]\n",
      "4\n",
      "[3 4 5]\n",
      "5\n",
      "[3 4 5]\n",
      "enter number6\n",
      "1\n",
      "1\n",
      "[3 4 5]\n",
      "2\n",
      "[3 4 5]\n",
      "3\n",
      "[3 4 5]\n",
      "4\n",
      "[3 4 5]\n",
      "5\n",
      "[3 4 5]\n",
      "6\n",
      "[3 4 5]\n",
      "2\n",
      "1\n",
      "[3 4 5]\n",
      "2\n",
      "[3 4 5]\n",
      "3\n",
      "[3 4 5]\n",
      "4\n",
      "[3 4 5]\n",
      "5\n",
      "[3 4 5]\n",
      "6\n",
      "[3 4 5]\n",
      "3\n",
      "1\n",
      "[3 4 5]\n",
      "2\n",
      "[3 4 5]\n",
      "3\n",
      "[3 4 5]\n",
      "4\n",
      "[3 4 5]\n",
      "5\n",
      "[3 4 5]\n",
      "6\n",
      "[3 4 5]\n",
      "4\n",
      "1\n",
      "[3 4 5]\n",
      "2\n",
      "[3 4 5]\n",
      "3\n",
      "[3 4 5]\n",
      "4\n",
      "[3 4 5]\n",
      "5\n",
      "[3 4 5]\n",
      "6\n",
      "[3 4 5]\n",
      "5\n",
      "1\n",
      "[3 4 5]\n",
      "2\n",
      "[3 4 5]\n",
      "3\n",
      "[3 4 5]\n",
      "4\n",
      "[3 4 5]\n",
      "5\n",
      "[3 4 5]\n",
      "6\n",
      "[3 4 5]\n",
      "6\n",
      "1\n",
      "[3 4 5]\n",
      "2\n",
      "[3 4 5]\n",
      "3\n",
      "[3 4 5]\n",
      "4\n",
      "[3 4 5]\n",
      "5\n",
      "[3 4 5]\n",
      "6\n",
      "[3 4 5]\n",
      "enter number7\n",
      "1\n",
      "1\n",
      "[3 4 5]\n",
      "2\n",
      "[3 4 5]\n",
      "3\n",
      "[3 4 5]\n",
      "4\n",
      "[3 4 5]\n",
      "5\n",
      "[3 4 5]\n",
      "6\n",
      "[3 4 5]\n",
      "7\n",
      "[3 4 5]\n",
      "2\n",
      "1\n",
      "[3 4 5]\n",
      "2\n",
      "[3 4 5]\n",
      "3\n",
      "[3 4 5]\n",
      "4\n",
      "[3 4 5]\n",
      "5\n",
      "[3 4 5]\n",
      "6\n",
      "[3 4 5]\n",
      "7\n",
      "[3 4 5]\n",
      "3\n",
      "1\n",
      "[3 4 5]\n",
      "2\n",
      "[3 4 5]\n",
      "3\n",
      "[3 4 5]\n",
      "4\n",
      "[3 4 5]\n",
      "5\n",
      "[3 4 5]\n",
      "6\n",
      "[3 4 5]\n",
      "7\n",
      "[3 4 5]\n",
      "4\n",
      "1\n",
      "[3 4 5]\n",
      "2\n",
      "[3 4 5]\n",
      "3\n",
      "[3 4 5]\n",
      "4\n",
      "[3 4 5]\n",
      "5\n",
      "[3 4 5]\n",
      "6\n",
      "[3 4 5]\n",
      "7\n",
      "[3 4 5]\n",
      "5\n",
      "1\n",
      "[3 4 5]\n",
      "2\n",
      "[3 4 5]\n",
      "3\n",
      "[3 4 5]\n",
      "4\n",
      "[3 4 5]\n",
      "5\n",
      "[3 4 5]\n",
      "6\n",
      "[3 4 5]\n",
      "7\n",
      "[3 4 5]\n",
      "6\n",
      "1\n",
      "[3 4 5]\n",
      "2\n",
      "[3 4 5]\n",
      "3\n",
      "[3 4 5]\n",
      "4\n",
      "[3 4 5]\n",
      "5\n",
      "[3 4 5]\n",
      "6\n",
      "[3 4 5]\n",
      "7\n",
      "[3 4 5]\n",
      "7\n",
      "1\n",
      "[3 4 5]\n",
      "2\n",
      "[3 4 5]\n",
      "3\n",
      "[3 4 5]\n",
      "4\n",
      "[3 4 5]\n",
      "5\n",
      "[3 4 5]\n",
      "6\n",
      "[3 4 5]\n",
      "7\n",
      "[3 4 5]\n",
      "enter number7\n",
      "1\n",
      "1\n",
      "[3 4 5]\n",
      "2\n",
      "[3 4 5]\n",
      "3\n",
      "[3 4 5]\n",
      "4\n",
      "[3 4 5]\n",
      "5\n",
      "[3 4 5]\n",
      "6\n",
      "[3 4 5]\n",
      "7\n",
      "[3 4 5]\n",
      "7\n",
      "[3 4 5]\n",
      "2\n",
      "1\n",
      "[3 4 5]\n",
      "2\n",
      "[3 4 5]\n",
      "3\n",
      "[3 4 5]\n",
      "4\n",
      "[3 4 5]\n",
      "5\n",
      "[3 4 5]\n",
      "6\n",
      "[3 4 5]\n",
      "7\n",
      "[3 4 5]\n",
      "7\n",
      "[3 4 5]\n",
      "3\n",
      "1\n",
      "[3 4 5]\n",
      "2\n",
      "[3 4 5]\n",
      "3\n",
      "[3 4 5]\n",
      "4\n",
      "[3 4 5]\n",
      "5\n",
      "[3 4 5]\n",
      "6\n",
      "[3 4 5]\n",
      "7\n",
      "[3 4 5]\n",
      "7\n",
      "[3 4 5]\n",
      "4\n",
      "1\n",
      "[3 4 5]\n",
      "2\n",
      "[3 4 5]\n",
      "3\n",
      "[3 4 5]\n",
      "4\n",
      "[3 4 5]\n",
      "5\n",
      "[3 4 5]\n",
      "6\n",
      "[3 4 5]\n",
      "7\n",
      "[3 4 5]\n",
      "7\n",
      "[3 4 5]\n",
      "5\n",
      "1\n",
      "[3 4 5]\n",
      "2\n",
      "[3 4 5]\n",
      "3\n",
      "[3 4 5]\n",
      "4\n",
      "[3 4 5]\n",
      "5\n",
      "[3 4 5]\n",
      "6\n",
      "[3 4 5]\n",
      "7\n",
      "[3 4 5]\n",
      "7\n",
      "[3 4 5]\n",
      "6\n",
      "1\n",
      "[3 4 5]\n",
      "2\n",
      "[3 4 5]\n",
      "3\n",
      "[3 4 5]\n",
      "4\n",
      "[3 4 5]\n",
      "5\n",
      "[3 4 5]\n",
      "6\n",
      "[3 4 5]\n",
      "7\n",
      "[3 4 5]\n",
      "7\n",
      "[3 4 5]\n",
      "7\n",
      "1\n",
      "[3 4 5]\n",
      "2\n",
      "[3 4 5]\n",
      "3\n",
      "[3 4 5]\n",
      "4\n",
      "[3 4 5]\n",
      "5\n",
      "[3 4 5]\n",
      "6\n",
      "[3 4 5]\n",
      "7\n",
      "[3 4 5]\n",
      "7\n",
      "[3 4 5]\n",
      "7\n",
      "1\n",
      "[3 4 5]\n",
      "2\n",
      "[3 4 5]\n",
      "3\n",
      "[3 4 5]\n",
      "4\n",
      "[3 4 5]\n",
      "5\n",
      "[3 4 5]\n",
      "6\n",
      "[3 4 5]\n",
      "7\n",
      "[3 4 5]\n",
      "7\n",
      "[3 4 5]\n"
     ]
    }
   ],
   "source": [
    "import numpy as np\n",
    "a=[]\n",
    "size=int(input(\"how many numbers\"))\n",
    "for i in range(size):\n",
    "    val=int(input(\"enter number\"))\n",
    "    a.append(val)\n",
    "    arr=np.array(a)\n",
    "    for i in range(arr.size):\n",
    "        print(arr[i])\n",
    "        sum=0\n",
    "        for i in range(arr.size):\n",
    "            sum=sum+arr[i]\n",
    "            print(arr[i])\n",
    "            arr1=arr[2:5]\n",
    "            print(arr1)"
   ]
  },
  {
   "cell_type": "code",
   "execution_count": 6,
   "id": "6ffebe78",
   "metadata": {},
   "outputs": [
    {
     "name": "stdout",
     "output_type": "stream",
     "text": [
      "enter the sizze of array4\n",
      "enter number1\n",
      "enter number2\n",
      "enter number3\n",
      "enter number4\n"
     ]
    },
    {
     "data": {
      "text/plain": [
       "array([1, 2, 3, 4])"
      ]
     },
     "execution_count": 6,
     "metadata": {},
     "output_type": "execute_result"
    }
   ],
   "source": [
    "import numpy as np\n",
    "a=[]\n",
    "n=int(input(\"enter the sizze of array\"))\n",
    "for i in range(n):\n",
    "    val=int(input(\"enter number\"))\n",
    "    a.append(val)\n",
    "arr=np.array(a)\n",
    "arr"
   ]
  },
  {
   "cell_type": "code",
   "execution_count": 7,
   "id": "b4724aac",
   "metadata": {},
   "outputs": [
    {
     "name": "stdout",
     "output_type": "stream",
     "text": [
      "enter the size of array3\n",
      "enter number12\n",
      "enter number2\n",
      "enter number3\n"
     ]
    },
    {
     "data": {
      "text/plain": [
       "array([12,  2,  3])"
      ]
     },
     "execution_count": 7,
     "metadata": {},
     "output_type": "execute_result"
    }
   ],
   "source": [
    "import numpy as np\n",
    "a=[]\n",
    "n=int(input(\"enter the size of array\"))\n",
    "for i in range(n):\n",
    "    val=int(input(\"enter number\"))\n",
    "    a.append(val)\n",
    "myarr=np.array(a)\n",
    "myarr"
   ]
  },
  {
   "cell_type": "code",
   "execution_count": 10,
   "id": "2f03487b",
   "metadata": {},
   "outputs": [
    {
     "name": "stdout",
     "output_type": "stream",
     "text": [
      "smaller\n"
     ]
    }
   ],
   "source": [
    "a=15\n",
    "b=20\n",
    "if a>b:\n",
    "    print(\"bigger\")\n",
    "else:\n",
    "    print(\"smaller\")"
   ]
  },
  {
   "cell_type": "code",
   "execution_count": 13,
   "id": "b5b73844",
   "metadata": {},
   "outputs": [
    {
     "name": "stdout",
     "output_type": "stream",
     "text": [
      "enter the number10\n",
      "enter 2nd number5\n",
      "bigger\n"
     ]
    }
   ],
   "source": [
    "a=int(input(\"enter the number\"))\n",
    "b=int(input(\"enter 2nd number\"))\n",
    "if a>b:\n",
    "    print(\"bigger\")\n",
    "else:\n",
    "    print(\"smaller\")"
   ]
  },
  {
   "cell_type": "code",
   "execution_count": 1,
   "id": "a139b1bb",
   "metadata": {},
   "outputs": [
    {
     "data": {
      "text/plain": [
       "array([43, 36,  8,  8, 35, 23, 12, 11, 28, 24, 11, 37])"
      ]
     },
     "execution_count": 1,
     "metadata": {},
     "output_type": "execute_result"
    }
   ],
   "source": [
    "import numpy as np\n",
    "arr=np.random.randint(1,50,12)\n",
    "arr"
   ]
  },
  {
   "cell_type": "code",
   "execution_count": 6,
   "id": "1c6343b2",
   "metadata": {},
   "outputs": [
    {
     "data": {
      "text/plain": [
       "array([[58, 37, 49, 54],\n",
       "       [70, 47, 66,  9],\n",
       "       [ 3, 60, 86, 59]])"
      ]
     },
     "execution_count": 6,
     "metadata": {},
     "output_type": "execute_result"
    }
   ],
   "source": [
    "import numpy as np\n",
    "arr=np.random.randint(1,100,12)\n",
    "arr=arr.reshape(3,4)\n",
    "arr"
   ]
  },
  {
   "cell_type": "code",
   "execution_count": null,
   "id": "a399bc9a",
   "metadata": {},
   "outputs": [],
   "source": []
  }
 ],
 "metadata": {
  "kernelspec": {
   "display_name": "Python 3 (ipykernel)",
   "language": "python",
   "name": "python3"
  },
  "language_info": {
   "codemirror_mode": {
    "name": "ipython",
    "version": 3
   },
   "file_extension": ".py",
   "mimetype": "text/x-python",
   "name": "python",
   "nbconvert_exporter": "python",
   "pygments_lexer": "ipython3",
   "version": "3.9.13"
  }
 },
 "nbformat": 4,
 "nbformat_minor": 5
}
